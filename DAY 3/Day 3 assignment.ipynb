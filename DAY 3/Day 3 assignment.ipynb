{
 "cells": [
  {
   "cell_type": "markdown",
   "metadata": {},
   "source": [
    "# question 1"
   ]
  },
  {
   "cell_type": "code",
   "execution_count": 2,
   "metadata": {},
   "outputs": [
    {
     "name": "stdout",
     "output_type": "stream",
     "text": [
      "subtraction of C1 and C2 is (-1-1j)\n"
     ]
    }
   ],
   "source": [
    "#substraction of two complex number\n",
    "C1= 3+7j\n",
    "C2= 4+8j\n",
    "\n",
    "print(\"subtraction of C1 and C2 is\", C1-C2 )"
   ]
  },
  {
   "cell_type": "markdown",
   "metadata": {},
   "source": [
    "# question 2"
   ]
  },
  {
   "cell_type": "code",
   "execution_count": 3,
   "metadata": {},
   "outputs": [
    {
     "name": "stdout",
     "output_type": "stream",
     "text": [
      "fourth root of 32 is 2.378414230005442\n"
     ]
    }
   ],
   "source": [
    "#fouth root of a number\n",
    "a = 32\n",
    "print(\"fourth root of 32 is\", a**(1/4))"
   ]
  },
  {
   "cell_type": "markdown",
   "metadata": {},
   "source": [
    "# question 3"
   ]
  },
  {
   "cell_type": "code",
   "execution_count": 4,
   "metadata": {},
   "outputs": [
    {
     "name": "stdout",
     "output_type": "stream",
     "text": [
      "35\n",
      "25\n"
     ]
    }
   ],
   "source": [
    "#program to swap two numbers in Python with the help of a temporary variable.\n",
    "a=25\n",
    "b=35\n",
    "\n",
    "temp=a\n",
    "a=b\n",
    "b=temp\n",
    "\n",
    "print(a)\n",
    "print(b)"
   ]
  },
  {
   "cell_type": "markdown",
   "metadata": {},
   "source": [
    "# question 4"
   ]
  },
  {
   "cell_type": "code",
   "execution_count": 5,
   "metadata": {},
   "outputs": [
    {
     "name": "stdout",
     "output_type": "stream",
     "text": [
      "35\n",
      "40\n"
     ]
    }
   ],
   "source": [
    "# program to swap two numbers in Python without using a temporary variable\n",
    "a=40\n",
    "b=35\n",
    "\n",
    "a=a+b\n",
    "b=a-b\n",
    "a=a-b\n",
    "\n",
    "print(a)\n",
    "print(b)"
   ]
  },
  {
   "cell_type": "markdown",
   "metadata": {},
   "source": [
    "# question 5"
   ]
  },
  {
   "cell_type": "code",
   "execution_count": 8,
   "metadata": {},
   "outputs": [
    {
     "name": "stdout",
     "output_type": "stream",
     "text": [
      "10.0\n",
      "283.15\n"
     ]
    }
   ],
   "source": [
    "#program to convert fahrenheit to kelvin and celsius both.\n",
    "#for f to c\n",
    "fahrenheit = 50\n",
    "celsius = (fahrenheit-32)*(5/9)\n",
    "print(celsius)\n",
    "\n",
    "#for f to k\n",
    "fahrenheit = 50\n",
    "kelvin = (fahrenheit-32)*(5/9)+273.15\n",
    "print(kelvin)"
   ]
  },
  {
   "cell_type": "markdown",
   "metadata": {},
   "source": [
    "# question 6"
   ]
  },
  {
   "cell_type": "code",
   "execution_count": 10,
   "metadata": {},
   "outputs": [
    {
     "name": "stdout",
     "output_type": "stream",
     "text": [
      "<class 'int'>\n",
      "<class 'float'>\n",
      "<class 'complex'>\n",
      "<class 'str'>\n",
      "<class 'list'>\n",
      "<class 'tuple'>\n",
      "<class 'dict'>\n"
     ]
    }
   ],
   "source": [
    "#all data types\n",
    "a=type(1234)\n",
    "print(a)\n",
    "b=type(55.50)\n",
    "print(b)\n",
    "c=type(6+4j)\n",
    "print(c)\n",
    "d=type(\"hello\")\n",
    "print(d)\n",
    "e=type([1,2,3,4])\n",
    "print(e)\n",
    "f=type((1,2,3,4))\n",
    "print(f)\n",
    "g=type({1:\"one\", 2:\"two\", 3:\"three\"})\n",
    "print(g)"
   ]
  },
  {
   "cell_type": "markdown",
   "metadata": {},
   "source": [
    "# question 7"
   ]
  },
  {
   "cell_type": "markdown",
   "metadata": {},
   "source": [
    "#to creat markdown cell"
   ]
  },
  {
   "cell_type": "markdown",
   "metadata": {},
   "source": [
    "firstly creat a github profile by using google id or any other you have,\n",
    "then creat a repository and name it letsupgrade ai/ml and make it public\n",
    "then drag the .ipynb files that you downloaded from jupyyter notebook of your assignments\n",
    "then copy the link of your repository folder in which you hhave your assignment\n",
    "then paste the link in the letsupgrade assignment submition link\n",
    "and fill the rest deatils in submission form\n",
    "then submit it."
   ]
  }
 ],
 "metadata": {
  "kernelspec": {
   "display_name": "Python 3",
   "language": "python",
   "name": "python3"
  },
  "language_info": {
   "codemirror_mode": {
    "name": "ipython",
    "version": 3
   },
   "file_extension": ".py",
   "mimetype": "text/x-python",
   "name": "python",
   "nbconvert_exporter": "python",
   "pygments_lexer": "ipython3",
   "version": "3.7.6"
  }
 },
 "nbformat": 4,
 "nbformat_minor": 4
}
